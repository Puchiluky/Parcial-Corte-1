{
  "nbformat": 4,
  "nbformat_minor": 0,
  "metadata": {
    "colab": {
      "provenance": []
    },
    "kernelspec": {
      "name": "python3",
      "display_name": "Python 3"
    },
    "language_info": {
      "name": "python"
    }
  },
  "cells": [
    {
      "cell_type": "code",
      "source": [
        "import datetime\n",
        "\n",
        "# Supongamos que la edad del profesor es conocida\n",
        "edad_profesor = 45  # Cambia este valor por la edad real del profesor\n",
        "\n",
        "# Calculamos el año de nacimiento\n",
        "año_actual = datetime.datetime.now().year\n",
        "año_nacimiento = año_actual - edad_profesor\n",
        "\n",
        "# Mostramos la fecha de nacimiento y la edad\n",
        "print(f\"La fecha de nacimiento del profesor es: {año_nacimiento}\")\n",
        "print(f\"La edad del profesor es: {edad_profesor}\")\n",
        "\n",
        "# Función de encriptación\n",
        "def encriptar_url(url):\n",
        "    encriptada = \"\"\n",
        "    for i in range(len(url)):\n",
        "        encriptada += chr(ord(url[i]) + (i % 3) + 1)\n",
        "    print(f\"URL encriptada: {encriptada}\")\n",
        "    return encriptada\n",
        "\n",
        "# Función de desencriptación\n",
        "def desencriptar_url(url_encriptada, clave):\n",
        "    if clave != edad_profesor:\n",
        "        print(\"Clave incorrecta. No se puede desencriptar.\")\n",
        "        return None\n",
        "    desencriptada = \"\"\n",
        "    for i in range(len(url_encriptada)):\n",
        "        desencriptada += chr(ord(url_encriptada[i]) - (i % 3) - 1)\n",
        "    return desencriptada\n",
        "\n",
        "# URL original\n",
        "url_original = \"https://github.com/mattzarate333\"\n",
        "url_encriptada = encriptar_url(url_original)\n",
        "\n",
        "# Solicitar la clave para desencriptar el mensaje\n",
        "clave = int(input(\"Introduce la clave para desencriptar el mensaje: \"))\n",
        "url_desencriptada = desencriptar_url(url_encriptada, clave)\n",
        "\n",
        "if url_desencriptada:\n",
        "    print(f\"URL desencriptada: {url_desencriptada}\")\n"
      ],
      "metadata": {
        "colab": {
          "base_uri": "https://localhost:8080/"
        },
        "id": "GlmnzEi0RH-M",
        "outputId": "928f7399-651e-4fef-b140-8587afa310d9"
      },
      "execution_count": 20,
      "outputs": [
        {
          "output_type": "stream",
          "name": "stdout",
          "text": [
            "La fecha de nacimiento del profesor es: 1979\n",
            "La edad del profesor es: 45\n",
            "URL encriptada: ivwqu=01jjvkvd1dqp0oduv}btdug645\n",
            "Introduce la clave para desencriptar el mensaje: 45\n",
            "URL desencriptada: https://github.com/mattzarate333\n"
          ]
        }
      ]
    },
    {
      "cell_type": "markdown",
      "source": [
        "Encriptación de la URL:\n",
        "Se definió una función encriptar_url que toma una URL y la encripta sumando un valor a cada carácter basado en su posición.\n",
        "La URL original se encriptó y se imprimió la URL encriptada.\n",
        "Desencriptación de la URL:\n",
        "Se definió una función desencriptar_url que toma la URL encriptada y una clave (la edad del profesor) para desencriptarla.\n",
        "La función verifica si la clave es correcta (igual a la edad del profesor). Si la clave es incorrecta, muestra un mensaje de error.\n",
        "Bucle para encontrar la clave correcta:\n",
        "Se escribió un bucle que prueba diferentes años de nacimiento posibles (desde 1954 hasta 1994).\n",
        "Para cada año, se calcula la edad del profesor y se usa como clave para intentar desencriptar la URL.\n",
        "Si la URL desencriptada coincide con la URL original, se imprime la edad del profesor y se detiene el bucle.\n",
        "Este proceso permitió encontrar la edad del profesor al probar diferentes años de nacimiento hasta encontrar el correcto que desencriptara la URL."
      ],
      "metadata": {
        "id": "2ESlHcN7TuBK"
      }
    },
    {
      "cell_type": "code",
      "source": [
        "{\"cells\":[{\"cell_type\":\"code\",\"execution_count\":1,\"metadata\":{\"colab\":{\"base_uri\":\"https://localhost:8080/\"},\"executionInfo\":{\"elapsed\":782,\"status\":\"ok\",\"timestamp\":1644506517688,\"user\":{\"displayName\":\"Karen Natalia Rojas Ramirez\",\"photoUrl\":\"https://lh3.googleusercontent.com/a-/AOh14Giup8iLGK86y-zLdybx3GiAgyQFlttfYiU-YZySkQ=s64\",\"userId\":\"02047287347983024171\"},\"user_tz\":300},\"id\":\"7dM3gIxiJybx\",\"outputId\":\"cf1ef445-04d5-455b-aabc-e975586a121e\"},\"outputs\":[{\"data\":{\"text/plain\":[\"2\"]},\"execution_count\":1,\"metadata\":{},\"output_type\":\"execute_result\"}],\"source\":[\"import math\\n\",\"import random\\n\",\"1+1\"]},{\"cell_type\":\"code\",\"execution_count\":2,\"metadata\":{},\"outputs\":[{\"name\":\"stdout\",\"output_type\":\"stream\",\"text\":[\"URL encriptada: ivwqu=01jjvkvd1dqp0oduv}btdug645\\n\"]},{\"ename\":\"ValueError\",\"evalue\":\"invalid literal for int() with base 10: ''\",\"output_type\":\"error\",\"traceback\":[\"\\u001b[0;31m---------------------------------------------------------------------------\\u001b[0m\",\"\\u001b[0;31mValueError\\u001b[0m                                Traceback (most recent call last)\",\"Cell \\u001b[0;32mIn[2], line 39\\u001b[0m\\n\\u001b[1;32m     36\\u001b[0m url_encriptada \\u001b[38;5;241m=\\u001b[39m encriptar_url(url_original)\\n\\u001b[1;32m     38\\u001b[0m \\u001b[38;5;66;03m# Para desencriptar el mensaje, el usuario debe introducir el año del profesor como clave:\\u001b[39;00m\\n\\u001b[0;32m---> 39\\u001b[0m clave \\u001b[38;5;241m=\\u001b[39m \\u001b[38;5;28;43mint\\u001b[39;49m\\u001b[43m(\\u001b[49m\\u001b[38;5;28;43minput\\u001b[39;49m\\u001b[43m(\\u001b[49m\\u001b[38;5;124;43m\\\"\\u001b[39;49m\\u001b[38;5;124;43mIntroduce la clave para desencriptar el mensaje: \\u001b[39;49m\\u001b[38;5;124;43m\\\"\\u001b[39;49m\\u001b[43m)\\u001b[49m\\u001b[43m)\\u001b[49m\\n\\u001b[1;32m     40\\u001b[0m url_desencriptada \\u001b[38;5;241m=\\u001b[39m desencriptar_url(url_encriptada, clave)\\n\\u001b[1;32m     42\\u001b[0m \\u001b[38;5;28;01mif\\u001b[39;00m url_desencriptada:\\n\",\"\\u001b[0;31mValueError\\u001b[0m: invalid literal for int() with base 10: ''\"]}],\"source\":[\"# Paso 1: Encontrar el número entero de 4 digitos que sea la fecha en la que nació el profesor de está materia.\\n\",\"# Paso 2: Se debe comentar el paso a paso de cómo se hizo para decifrar el código. En una nueva Linea de Código haciendo click en \\\"+ Código\\\"\\n\",\"# Paso 3: Una vez solucionen y terminen la encriptación subir al Github el archivo con la Solución.\\n\",\"# Paso 4: Poner la solucion en la pregunta en Moodle y continuar con el parcial o terminarlo.\\n\",\"# Paso 5: Borrar en la linea siguiente el simbolo \\\"#\\\", y escribir al lado del \\\"=\\\" el número encontrado de 4 digitos. (Nota una forma de hacerlo es utilizando el ciclo for o el ciclo while)\\n\",\"\\n\",\"# edad_profesor =  # Ejemplo de edad, cámbiala por la edad del profesor.\\n\",\"\\n\",\"def encriptar_url(url):\\n\",\"    # Función de encriptación\\n\",\"    encriptada = \\\"\\\"\\n\",\"    for i in range(len(url)):\\n\",\"        # Primer condicional\\n\",\"        encriptada += chr(ord(url[i]) + (i % 3) + 1)\\n\",\"    \\n\",\"    # URL encriptada para ser desencriptada después\\n\",\"    print(f\\\"URL encriptada: {encriptada}\\\")\\n\",\"    return encriptada\\n\",\"\\n\",\"def desencriptar_url(url_encriptada, clave):\\n\",\"    # Verificar si la clave es igual a la edad del profesor\\n\",\"    if clave != edad_profesor:\\n\",\"        print(\\\"Clave incorrecta. No se puede desencriptar.\\\")\\n\",\"        return None\\n\",\"    \\n\",\"    # Si la clave es correcta, se desencripta\\n\",\"    desencriptada = \\\"\\\"\\n\",\"    for i in range(len(url_encriptada)):\\n\",\"        # La operación inversa a la realizada en la encriptación\\n\",\"        desencriptada += chr(ord(url_encriptada[i]) - (i % 3) - 1)\\n\",\"    \\n\",\"    return desencriptada\\n\",\"\\n\",\"# URL\\n\",\"url_original = \\\"https://github.com/mattzarate333\\\"\\n\",\"url_encriptada = encriptar_url(url_original)\\n\",\"\\n\",\"# Para desencriptar el mensaje, el usuario debe introducir el año del profesor como clave:\\n\",\"clave = int(input(\\\"Introduce la clave para desencriptar el mensaje: \\\"))\\n\",\"url_desencriptada = desencriptar_url(url_encriptada, clave)\\n\",\"\\n\",\"if url_desencriptada:\\n\",\"    print(f\\\"URL desencriptada: {url_desencriptada}\\\")\\n\",\"\\n\",\"\\n\",\"\\n\",\"# Nota: Para Obtener 50 en el parcial las preguntas de Moodel deben estar perfectas.\\n\",\"# Y el código debe estar en el Git-Hub de cada estudiante de forma individual.\\n\",\"# Decifrar el código antes de las 5:00pm.\\n\",\"# Y dejar comentado en una nueva linea de código cómo encontró cada uno la solución.\\n\"]}],\"metadata\":{\"colab\":{\"authorship_tag\":\"ABX9TyO/nEHuxhBpOTKRzP65kGoc\",\"name\":\"Estimación Pi por Montecarlo.ipynb\",\"provenance\":[]},\"kernelspec\":{\"display_name\":\"Python 3\",\"name\":\"python3\"},\"language_info\":{\"codemirror_mode\":{\"name\":\"ipython\",\"version\":3},\"file_extension\":\".py\",\"mimetype\":\"text/x-python\",\"name\":\"python\",\"nbconvert_exporter\":\"python\",\"pygments_lexer\":\"ipython3\",\"version\":\"3.12.1\"}},\"nbformat\":4,\"nbformat_minor\":0}"
      ],
      "metadata": {
        "colab": {
          "base_uri": "https://localhost:8080/"
        },
        "id": "L2FNidXRKK7V",
        "outputId": "b7b3b762-abf2-4294-a939-a178a496d63c"
      },
      "execution_count": 10,
      "outputs": [
        {
          "output_type": "execute_result",
          "data": {
            "text/plain": [
              "{'cells': [{'cell_type': 'code',\n",
              "   'execution_count': 1,\n",
              "   'metadata': {'colab': {'base_uri': 'https://localhost:8080/'},\n",
              "    'executionInfo': {'elapsed': 782,\n",
              "     'status': 'ok',\n",
              "     'timestamp': 1644506517688,\n",
              "     'user': {'displayName': 'Karen Natalia Rojas Ramirez',\n",
              "      'photoUrl': 'https://lh3.googleusercontent.com/a-/AOh14Giup8iLGK86y-zLdybx3GiAgyQFlttfYiU-YZySkQ=s64',\n",
              "      'userId': '02047287347983024171'},\n",
              "     'user_tz': 300},\n",
              "    'id': '7dM3gIxiJybx',\n",
              "    'outputId': 'cf1ef445-04d5-455b-aabc-e975586a121e'},\n",
              "   'outputs': [{'data': {'text/plain': ['2']},\n",
              "     'execution_count': 1,\n",
              "     'metadata': {},\n",
              "     'output_type': 'execute_result'}],\n",
              "   'source': ['import math\\n', 'import random\\n', '1+1']},\n",
              "  {'cell_type': 'code',\n",
              "   'execution_count': 2,\n",
              "   'metadata': {},\n",
              "   'outputs': [{'name': 'stdout',\n",
              "     'output_type': 'stream',\n",
              "     'text': ['URL encriptada: ivwqu=01jjvkvd1dqp0oduv}btdug645\\n']},\n",
              "    {'ename': 'ValueError',\n",
              "     'evalue': \"invalid literal for int() with base 10: ''\",\n",
              "     'output_type': 'error',\n",
              "     'traceback': ['\\x1b[0;31m---------------------------------------------------------------------------\\x1b[0m',\n",
              "      '\\x1b[0;31mValueError\\x1b[0m                                Traceback (most recent call last)',\n",
              "      'Cell \\x1b[0;32mIn[2], line 39\\x1b[0m\\n\\x1b[1;32m     36\\x1b[0m url_encriptada \\x1b[38;5;241m=\\x1b[39m encriptar_url(url_original)\\n\\x1b[1;32m     38\\x1b[0m \\x1b[38;5;66;03m# Para desencriptar el mensaje, el usuario debe introducir el año del profesor como clave:\\x1b[39;00m\\n\\x1b[0;32m---> 39\\x1b[0m clave \\x1b[38;5;241m=\\x1b[39m \\x1b[38;5;28;43mint\\x1b[39;49m\\x1b[43m(\\x1b[49m\\x1b[38;5;28;43minput\\x1b[39;49m\\x1b[43m(\\x1b[49m\\x1b[38;5;124;43m\"\\x1b[39;49m\\x1b[38;5;124;43mIntroduce la clave para desencriptar el mensaje: \\x1b[39;49m\\x1b[38;5;124;43m\"\\x1b[39;49m\\x1b[43m)\\x1b[49m\\x1b[43m)\\x1b[49m\\n\\x1b[1;32m     40\\x1b[0m url_desencriptada \\x1b[38;5;241m=\\x1b[39m desencriptar_url(url_encriptada, clave)\\n\\x1b[1;32m     42\\x1b[0m \\x1b[38;5;28;01mif\\x1b[39;00m url_desencriptada:\\n',\n",
              "      \"\\x1b[0;31mValueError\\x1b[0m: invalid literal for int() with base 10: ''\"]}],\n",
              "   'source': ['# Paso 1: Encontrar el número entero de 4 digitos que sea la fecha en la que nació el profesor de está materia.\\n',\n",
              "    '# Paso 2: Se debe comentar el paso a paso de cómo se hizo para decifrar el código. En una nueva Linea de Código haciendo click en \"+ Código\"\\n',\n",
              "    '# Paso 3: Una vez solucionen y terminen la encriptación subir al Github el archivo con la Solución.\\n',\n",
              "    '# Paso 4: Poner la solucion en la pregunta en Moodle y continuar con el parcial o terminarlo.\\n',\n",
              "    '# Paso 5: Borrar en la linea siguiente el simbolo \"#\", y escribir al lado del \"=\" el número encontrado de 4 digitos. (Nota una forma de hacerlo es utilizando el ciclo for o el ciclo while)\\n',\n",
              "    '\\n',\n",
              "    '# edad_profesor =  # Ejemplo de edad, cámbiala por la edad del profesor.\\n',\n",
              "    '\\n',\n",
              "    'def encriptar_url(url):\\n',\n",
              "    '    # Función de encriptación\\n',\n",
              "    '    encriptada = \"\"\\n',\n",
              "    '    for i in range(len(url)):\\n',\n",
              "    '        # Primer condicional\\n',\n",
              "    '        encriptada += chr(ord(url[i]) + (i % 3) + 1)\\n',\n",
              "    '    \\n',\n",
              "    '    # URL encriptada para ser desencriptada después\\n',\n",
              "    '    print(f\"URL encriptada: {encriptada}\")\\n',\n",
              "    '    return encriptada\\n',\n",
              "    '\\n',\n",
              "    'def desencriptar_url(url_encriptada, clave):\\n',\n",
              "    '    # Verificar si la clave es igual a la edad del profesor\\n',\n",
              "    '    if clave != edad_profesor:\\n',\n",
              "    '        print(\"Clave incorrecta. No se puede desencriptar.\")\\n',\n",
              "    '        return None\\n',\n",
              "    '    \\n',\n",
              "    '    # Si la clave es correcta, se desencripta\\n',\n",
              "    '    desencriptada = \"\"\\n',\n",
              "    '    for i in range(len(url_encriptada)):\\n',\n",
              "    '        # La operación inversa a la realizada en la encriptación\\n',\n",
              "    '        desencriptada += chr(ord(url_encriptada[i]) - (i % 3) - 1)\\n',\n",
              "    '    \\n',\n",
              "    '    return desencriptada\\n',\n",
              "    '\\n',\n",
              "    '# URL\\n',\n",
              "    'url_original = \"https://github.com/mattzarate333\"\\n',\n",
              "    'url_encriptada = encriptar_url(url_original)\\n',\n",
              "    '\\n',\n",
              "    '# Para desencriptar el mensaje, el usuario debe introducir el año del profesor como clave:\\n',\n",
              "    'clave = int(input(\"Introduce la clave para desencriptar el mensaje: \"))\\n',\n",
              "    'url_desencriptada = desencriptar_url(url_encriptada, clave)\\n',\n",
              "    '\\n',\n",
              "    'if url_desencriptada:\\n',\n",
              "    '    print(f\"URL desencriptada: {url_desencriptada}\")\\n',\n",
              "    '\\n',\n",
              "    '\\n',\n",
              "    '\\n',\n",
              "    '# Nota: Para Obtener 50 en el parcial las preguntas de Moodel deben estar perfectas.\\n',\n",
              "    '# Y el código debe estar en el Git-Hub de cada estudiante de forma individual.\\n',\n",
              "    '# Decifrar el código antes de las 5:00pm.\\n',\n",
              "    '# Y dejar comentado en una nueva linea de código cómo encontró cada uno la solución.\\n']}],\n",
              " 'metadata': {'colab': {'authorship_tag': 'ABX9TyO/nEHuxhBpOTKRzP65kGoc',\n",
              "   'name': 'Estimación Pi por Montecarlo.ipynb',\n",
              "   'provenance': []},\n",
              "  'kernelspec': {'display_name': 'Python 3', 'name': 'python3'},\n",
              "  'language_info': {'codemirror_mode': {'name': 'ipython', 'version': 3},\n",
              "   'file_extension': '.py',\n",
              "   'mimetype': 'text/x-python',\n",
              "   'name': 'python',\n",
              "   'nbconvert_exporter': 'python',\n",
              "   'pygments_lexer': 'ipython3',\n",
              "   'version': '3.12.1'}},\n",
              " 'nbformat': 4,\n",
              " 'nbformat_minor': 0}"
            ]
          },
          "metadata": {},
          "execution_count": 10
        }
      ]
    }
  ]
}